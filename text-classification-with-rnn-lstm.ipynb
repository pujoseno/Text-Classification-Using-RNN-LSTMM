{
 "cells": [
  {
   "cell_type": "code",
   "execution_count": 1,
   "id": "50c6cca3",
   "metadata": {
    "_cell_guid": "b1076dfc-b9ad-4769-8c92-a6c4dae69d19",
    "_uuid": "8f2839f25d086af736a60e9eeb907d3b93b6e0e5",
    "execution": {
     "iopub.execute_input": "2022-05-31T06:03:13.705986Z",
     "iopub.status.busy": "2022-05-31T06:03:13.705426Z",
     "iopub.status.idle": "2022-05-31T06:03:13.723432Z",
     "shell.execute_reply": "2022-05-31T06:03:13.722558Z"
    },
    "papermill": {
     "duration": 0.030051,
     "end_time": "2022-05-31T06:03:13.726087",
     "exception": false,
     "start_time": "2022-05-31T06:03:13.696036",
     "status": "completed"
    },
    "tags": []
   },
   "outputs": [
    {
     "name": "stdout",
     "output_type": "stream",
     "text": [
      "/kaggle/input/consume-complaints-dataset-fo-nlp/complaints_processed.csv\n"
     ]
    }
   ],
   "source": [
    "# This Python 3 environment comes with many helpful analytics libraries installed\n",
    "# It is defined by the kaggle/python Docker image: https://github.com/kaggle/docker-python\n",
    "# For example, here's several helpful packages to load\n",
    "\n",
    "import numpy as np # linear algebra\n",
    "import pandas as pd # data processing, CSV file I/O (e.g. pd.read_csv)\n",
    "\n",
    "# Input data files are available in the read-only \"../input/\" directory\n",
    "# For example, running this (by clicking run or pressing Shift+Enter) will list all files under the input directory\n",
    "\n",
    "import os\n",
    "for dirname, _, filenames in os.walk('/kaggle/input'):\n",
    "    for filename in filenames:\n",
    "        print(os.path.join(dirname, filename))\n",
    "\n",
    "# You can write up to 20GB to the current directory (/kaggle/working/) that gets preserved as output when you create a version using \"Save & Run All\" \n",
    "# You can also write temporary files to /kaggle/temp/, but they won't be saved outside of the current session"
   ]
  },
  {
   "cell_type": "code",
   "execution_count": 2,
   "id": "ddff0927",
   "metadata": {
    "execution": {
     "iopub.execute_input": "2022-05-31T06:03:13.740944Z",
     "iopub.status.busy": "2022-05-31T06:03:13.740538Z",
     "iopub.status.idle": "2022-05-31T06:03:21.009687Z",
     "shell.execute_reply": "2022-05-31T06:03:21.008659Z"
    },
    "papermill": {
     "duration": 7.278831,
     "end_time": "2022-05-31T06:03:21.011699",
     "exception": false,
     "start_time": "2022-05-31T06:03:13.732868",
     "status": "completed"
    },
    "tags": []
   },
   "outputs": [],
   "source": [
    "import numpy as np \n",
    "import pandas as pd\n",
    "import matplotlib.pyplot as plt\n",
    "import seaborn as sns\n",
    "#from keras.preprocessing.text import Tokenizer\n",
    "#from keras.preprocessing.sequence import pad_sequences\n",
    "#from keras.models import Sequential\n",
    "#from keras.layers import Dense, Embedding, LSTM, SpatialDropout1D\n",
    "from sklearn.model_selection import train_test_split\n",
    "#from keras.utils.np_utils import to_categorical\n",
    "from keras.callbacks import EarlyStopping\n",
    "#from keras.layers import Dropout\n",
    "import re\n",
    "from nltk.corpus import stopwords\n",
    "from nltk import word_tokenize\n",
    "STOPWORDS = set(stopwords.words('english'))\n",
    "from bs4 import BeautifulSoup\n",
    "import plotly.graph_objs as go\n",
    "#import plotly.plotly as py\n",
    "#import cufflinks\n",
    "from IPython.core.interactiveshell import InteractiveShell\n",
    "#import plotly.figure_factory as ff\n",
    "InteractiveShell.ast_node_interactivity = 'all'\n",
    "from plotly.offline import iplot\n",
    "#cufflinks.go_offline()\n",
    "#cufflinks.set_config_file(world_readable=True, theme='pearl')\n",
    "# Keras\n",
    "import tensorflow as tf\n",
    "from tensorflow.keras.preprocessing.text import Tokenizer\n",
    "from tensorflow.keras.preprocessing.sequence import pad_sequences"
   ]
  },
  {
   "cell_type": "code",
   "execution_count": 3,
   "id": "25a9ca89",
   "metadata": {
    "execution": {
     "iopub.execute_input": "2022-05-31T06:03:21.027116Z",
     "iopub.status.busy": "2022-05-31T06:03:21.026210Z",
     "iopub.status.idle": "2022-05-31T06:03:22.702505Z",
     "shell.execute_reply": "2022-05-31T06:03:22.700545Z"
    },
    "papermill": {
     "duration": 1.686089,
     "end_time": "2022-05-31T06:03:22.704900",
     "exception": false,
     "start_time": "2022-05-31T06:03:21.018811",
     "status": "completed"
    },
    "tags": []
   },
   "outputs": [
    {
     "name": "stdout",
     "output_type": "stream",
     "text": [
      "<class 'pandas.core.frame.DataFrame'>\n",
      "RangeIndex: 162421 entries, 0 to 162420\n",
      "Data columns (total 3 columns):\n",
      " #   Column      Non-Null Count   Dtype \n",
      "---  ------      --------------   ----- \n",
      " 0   Unnamed: 0  162421 non-null  int64 \n",
      " 1   product     162421 non-null  object\n",
      " 2   narrative   162411 non-null  object\n",
      "dtypes: int64(1), object(2)\n",
      "memory usage: 3.7+ MB\n"
     ]
    }
   ],
   "source": [
    "data = pd.read_csv('../input/consume-complaints-dataset-fo-nlp/complaints_processed.csv')\n",
    "data.info()"
   ]
  },
  {
   "cell_type": "code",
   "execution_count": 4,
   "id": "f647d276",
   "metadata": {
    "execution": {
     "iopub.execute_input": "2022-05-31T06:03:22.720540Z",
     "iopub.status.busy": "2022-05-31T06:03:22.719879Z",
     "iopub.status.idle": "2022-05-31T06:03:22.733277Z",
     "shell.execute_reply": "2022-05-31T06:03:22.732396Z"
    },
    "papermill": {
     "duration": 0.02283,
     "end_time": "2022-05-31T06:03:22.735350",
     "exception": false,
     "start_time": "2022-05-31T06:03:22.712520",
     "status": "completed"
    },
    "tags": []
   },
   "outputs": [
    {
     "data": {
      "text/html": [
       "<div>\n",
       "<style scoped>\n",
       "    .dataframe tbody tr th:only-of-type {\n",
       "        vertical-align: middle;\n",
       "    }\n",
       "\n",
       "    .dataframe tbody tr th {\n",
       "        vertical-align: top;\n",
       "    }\n",
       "\n",
       "    .dataframe thead th {\n",
       "        text-align: right;\n",
       "    }\n",
       "</style>\n",
       "<table border=\"1\" class=\"dataframe\">\n",
       "  <thead>\n",
       "    <tr style=\"text-align: right;\">\n",
       "      <th></th>\n",
       "      <th>Unnamed: 0</th>\n",
       "      <th>product</th>\n",
       "      <th>narrative</th>\n",
       "    </tr>\n",
       "  </thead>\n",
       "  <tbody>\n",
       "    <tr>\n",
       "      <th>0</th>\n",
       "      <td>0</td>\n",
       "      <td>credit_card</td>\n",
       "      <td>purchase order day shipping amount receive pro...</td>\n",
       "    </tr>\n",
       "    <tr>\n",
       "      <th>1</th>\n",
       "      <td>1</td>\n",
       "      <td>credit_card</td>\n",
       "      <td>forwarded message date tue subject please inve...</td>\n",
       "    </tr>\n",
       "    <tr>\n",
       "      <th>2</th>\n",
       "      <td>2</td>\n",
       "      <td>retail_banking</td>\n",
       "      <td>forwarded message cc sent friday pdt subject f...</td>\n",
       "    </tr>\n",
       "    <tr>\n",
       "      <th>3</th>\n",
       "      <td>3</td>\n",
       "      <td>credit_reporting</td>\n",
       "      <td>payment history missing credit report speciali...</td>\n",
       "    </tr>\n",
       "    <tr>\n",
       "      <th>4</th>\n",
       "      <td>4</td>\n",
       "      <td>credit_reporting</td>\n",
       "      <td>payment history missing credit report made mis...</td>\n",
       "    </tr>\n",
       "  </tbody>\n",
       "</table>\n",
       "</div>"
      ],
      "text/plain": [
       "   Unnamed: 0           product  \\\n",
       "0           0       credit_card   \n",
       "1           1       credit_card   \n",
       "2           2    retail_banking   \n",
       "3           3  credit_reporting   \n",
       "4           4  credit_reporting   \n",
       "\n",
       "                                           narrative  \n",
       "0  purchase order day shipping amount receive pro...  \n",
       "1  forwarded message date tue subject please inve...  \n",
       "2  forwarded message cc sent friday pdt subject f...  \n",
       "3  payment history missing credit report speciali...  \n",
       "4  payment history missing credit report made mis...  "
      ]
     },
     "execution_count": 4,
     "metadata": {},
     "output_type": "execute_result"
    }
   ],
   "source": [
    "data.head()"
   ]
  },
  {
   "cell_type": "code",
   "execution_count": 5,
   "id": "76bb7e5c",
   "metadata": {
    "execution": {
     "iopub.execute_input": "2022-05-31T06:03:22.751324Z",
     "iopub.status.busy": "2022-05-31T06:03:22.751057Z",
     "iopub.status.idle": "2022-05-31T06:03:22.759402Z",
     "shell.execute_reply": "2022-05-31T06:03:22.758723Z"
    },
    "papermill": {
     "duration": 0.017428,
     "end_time": "2022-05-31T06:03:22.761079",
     "exception": false,
     "start_time": "2022-05-31T06:03:22.743651",
     "status": "completed"
    },
    "tags": []
   },
   "outputs": [],
   "source": [
    "data_n = data.drop(['Unnamed: 0'], axis= 1)"
   ]
  },
  {
   "cell_type": "code",
   "execution_count": 6,
   "id": "f89025da",
   "metadata": {
    "execution": {
     "iopub.execute_input": "2022-05-31T06:03:22.775378Z",
     "iopub.status.busy": "2022-05-31T06:03:22.775109Z",
     "iopub.status.idle": "2022-05-31T06:03:22.819747Z",
     "shell.execute_reply": "2022-05-31T06:03:22.818872Z"
    },
    "papermill": {
     "duration": 0.053913,
     "end_time": "2022-05-31T06:03:22.821638",
     "exception": false,
     "start_time": "2022-05-31T06:03:22.767725",
     "status": "completed"
    },
    "tags": []
   },
   "outputs": [
    {
     "data": {
      "text/html": [
       "<div>\n",
       "<style scoped>\n",
       "    .dataframe tbody tr th:only-of-type {\n",
       "        vertical-align: middle;\n",
       "    }\n",
       "\n",
       "    .dataframe tbody tr th {\n",
       "        vertical-align: top;\n",
       "    }\n",
       "\n",
       "    .dataframe thead th {\n",
       "        text-align: right;\n",
       "    }\n",
       "</style>\n",
       "<table border=\"1\" class=\"dataframe\">\n",
       "  <thead>\n",
       "    <tr style=\"text-align: right;\">\n",
       "      <th></th>\n",
       "      <th>narrative</th>\n",
       "    </tr>\n",
       "    <tr>\n",
       "      <th>product</th>\n",
       "      <th></th>\n",
       "    </tr>\n",
       "  </thead>\n",
       "  <tbody>\n",
       "    <tr>\n",
       "      <th>credit_card</th>\n",
       "      <td>15566</td>\n",
       "    </tr>\n",
       "    <tr>\n",
       "      <th>credit_reporting</th>\n",
       "      <td>91172</td>\n",
       "    </tr>\n",
       "    <tr>\n",
       "      <th>debt_collection</th>\n",
       "      <td>23148</td>\n",
       "    </tr>\n",
       "    <tr>\n",
       "      <th>mortgages_and_loans</th>\n",
       "      <td>18990</td>\n",
       "    </tr>\n",
       "    <tr>\n",
       "      <th>retail_banking</th>\n",
       "      <td>13535</td>\n",
       "    </tr>\n",
       "  </tbody>\n",
       "</table>\n",
       "</div>"
      ],
      "text/plain": [
       "                     narrative\n",
       "product                       \n",
       "credit_card              15566\n",
       "credit_reporting         91172\n",
       "debt_collection          23148\n",
       "mortgages_and_loans      18990\n",
       "retail_banking           13535"
      ]
     },
     "execution_count": 6,
     "metadata": {},
     "output_type": "execute_result"
    }
   ],
   "source": [
    "data_n.groupby(['product']).count()"
   ]
  },
  {
   "cell_type": "code",
   "execution_count": 7,
   "id": "ac681d8c",
   "metadata": {
    "execution": {
     "iopub.execute_input": "2022-05-31T06:03:22.836669Z",
     "iopub.status.busy": "2022-05-31T06:03:22.836401Z",
     "iopub.status.idle": "2022-05-31T06:03:25.902365Z",
     "shell.execute_reply": "2022-05-31T06:03:25.901587Z"
    },
    "papermill": {
     "duration": 3.075407,
     "end_time": "2022-05-31T06:03:25.904257",
     "exception": false,
     "start_time": "2022-05-31T06:03:22.828850",
     "status": "completed"
    },
    "tags": []
   },
   "outputs": [
    {
     "data": {
      "text/html": [
       "        <script type=\"text/javascript\">\n",
       "        window.PlotlyConfig = {MathJaxConfig: 'local'};\n",
       "        if (window.MathJax && window.MathJax.Hub && window.MathJax.Hub.Config) {window.MathJax.Hub.Config({SVG: {font: \"STIX-Web\"}});}\n",
       "        if (typeof require !== 'undefined') {\n",
       "        require.undef(\"plotly\");\n",
       "        requirejs.config({\n",
       "            paths: {\n",
       "                'plotly': ['https://cdn.plot.ly/plotly-2.12.1.min']\n",
       "            }\n",
       "        });\n",
       "        require(['plotly'], function(Plotly) {\n",
       "            window._Plotly = Plotly;\n",
       "        });\n",
       "        }\n",
       "        </script>\n",
       "        "
      ]
     },
     "metadata": {},
     "output_type": "display_data"
    },
    {
     "data": {
      "text/html": [
       "<div>                            <div id=\"88201a2f-8e47-4e3b-adba-5dada5e8ad5c\" class=\"plotly-graph-div\" style=\"height:525px; width:100%;\"></div>            <script type=\"text/javascript\">                require([\"plotly\"], function(Plotly) {                    window.PLOTLYENV=window.PLOTLYENV || {};                                    if (document.getElementById(\"88201a2f-8e47-4e3b-adba-5dada5e8ad5c\")) {                    Plotly.newPlot(                        \"88201a2f-8e47-4e3b-adba-5dada5e8ad5c\",                        [{\"alignmentgroup\":\"True\",\"hovertemplate\":\"Variable=narrative<br>Product=%{x}<br>Count of Complaint=%{y}<extra></extra>\",\"legendgroup\":\"narrative\",\"marker\":{\"color\":\"#636efa\",\"pattern\":{\"shape\":\"\"}},\"name\":\"narrative\",\"offsetgroup\":\"narrative\",\"orientation\":\"v\",\"showlegend\":true,\"textposition\":\"auto\",\"x\":[\"credit_card\",\"credit_reporting\",\"debt_collection\",\"mortgages_and_loans\",\"retail_banking\"],\"xaxis\":\"x\",\"y\":[15566,91172,23148,18990,13535],\"yaxis\":\"y\",\"type\":\"bar\"}],                        {\"template\":{\"data\":{\"histogram2dcontour\":[{\"type\":\"histogram2dcontour\",\"colorbar\":{\"outlinewidth\":0,\"ticks\":\"\"},\"colorscale\":[[0.0,\"#0d0887\"],[0.1111111111111111,\"#46039f\"],[0.2222222222222222,\"#7201a8\"],[0.3333333333333333,\"#9c179e\"],[0.4444444444444444,\"#bd3786\"],[0.5555555555555556,\"#d8576b\"],[0.6666666666666666,\"#ed7953\"],[0.7777777777777778,\"#fb9f3a\"],[0.8888888888888888,\"#fdca26\"],[1.0,\"#f0f921\"]]}],\"choropleth\":[{\"type\":\"choropleth\",\"colorbar\":{\"outlinewidth\":0,\"ticks\":\"\"}}],\"histogram2d\":[{\"type\":\"histogram2d\",\"colorbar\":{\"outlinewidth\":0,\"ticks\":\"\"},\"colorscale\":[[0.0,\"#0d0887\"],[0.1111111111111111,\"#46039f\"],[0.2222222222222222,\"#7201a8\"],[0.3333333333333333,\"#9c179e\"],[0.4444444444444444,\"#bd3786\"],[0.5555555555555556,\"#d8576b\"],[0.6666666666666666,\"#ed7953\"],[0.7777777777777778,\"#fb9f3a\"],[0.8888888888888888,\"#fdca26\"],[1.0,\"#f0f921\"]]}],\"heatmap\":[{\"type\":\"heatmap\",\"colorbar\":{\"outlinewidth\":0,\"ticks\":\"\"},\"colorscale\":[[0.0,\"#0d0887\"],[0.1111111111111111,\"#46039f\"],[0.2222222222222222,\"#7201a8\"],[0.3333333333333333,\"#9c179e\"],[0.4444444444444444,\"#bd3786\"],[0.5555555555555556,\"#d8576b\"],[0.6666666666666666,\"#ed7953\"],[0.7777777777777778,\"#fb9f3a\"],[0.8888888888888888,\"#fdca26\"],[1.0,\"#f0f921\"]]}],\"heatmapgl\":[{\"type\":\"heatmapgl\",\"colorbar\":{\"outlinewidth\":0,\"ticks\":\"\"},\"colorscale\":[[0.0,\"#0d0887\"],[0.1111111111111111,\"#46039f\"],[0.2222222222222222,\"#7201a8\"],[0.3333333333333333,\"#9c179e\"],[0.4444444444444444,\"#bd3786\"],[0.5555555555555556,\"#d8576b\"],[0.6666666666666666,\"#ed7953\"],[0.7777777777777778,\"#fb9f3a\"],[0.8888888888888888,\"#fdca26\"],[1.0,\"#f0f921\"]]}],\"contourcarpet\":[{\"type\":\"contourcarpet\",\"colorbar\":{\"outlinewidth\":0,\"ticks\":\"\"}}],\"contour\":[{\"type\":\"contour\",\"colorbar\":{\"outlinewidth\":0,\"ticks\":\"\"},\"colorscale\":[[0.0,\"#0d0887\"],[0.1111111111111111,\"#46039f\"],[0.2222222222222222,\"#7201a8\"],[0.3333333333333333,\"#9c179e\"],[0.4444444444444444,\"#bd3786\"],[0.5555555555555556,\"#d8576b\"],[0.6666666666666666,\"#ed7953\"],[0.7777777777777778,\"#fb9f3a\"],[0.8888888888888888,\"#fdca26\"],[1.0,\"#f0f921\"]]}],\"surface\":[{\"type\":\"surface\",\"colorbar\":{\"outlinewidth\":0,\"ticks\":\"\"},\"colorscale\":[[0.0,\"#0d0887\"],[0.1111111111111111,\"#46039f\"],[0.2222222222222222,\"#7201a8\"],[0.3333333333333333,\"#9c179e\"],[0.4444444444444444,\"#bd3786\"],[0.5555555555555556,\"#d8576b\"],[0.6666666666666666,\"#ed7953\"],[0.7777777777777778,\"#fb9f3a\"],[0.8888888888888888,\"#fdca26\"],[1.0,\"#f0f921\"]]}],\"mesh3d\":[{\"type\":\"mesh3d\",\"colorbar\":{\"outlinewidth\":0,\"ticks\":\"\"}}],\"scatter\":[{\"fillpattern\":{\"fillmode\":\"overlay\",\"size\":10,\"solidity\":0.2},\"type\":\"scatter\"}],\"parcoords\":[{\"type\":\"parcoords\",\"line\":{\"colorbar\":{\"outlinewidth\":0,\"ticks\":\"\"}}}],\"scatterpolargl\":[{\"type\":\"scatterpolargl\",\"marker\":{\"colorbar\":{\"outlinewidth\":0,\"ticks\":\"\"}}}],\"bar\":[{\"error_x\":{\"color\":\"#2a3f5f\"},\"error_y\":{\"color\":\"#2a3f5f\"},\"marker\":{\"line\":{\"color\":\"#E5ECF6\",\"width\":0.5},\"pattern\":{\"fillmode\":\"overlay\",\"size\":10,\"solidity\":0.2}},\"type\":\"bar\"}],\"scattergeo\":[{\"type\":\"scattergeo\",\"marker\":{\"colorbar\":{\"outlinewidth\":0,\"ticks\":\"\"}}}],\"scatterpolar\":[{\"type\":\"scatterpolar\",\"marker\":{\"colorbar\":{\"outlinewidth\":0,\"ticks\":\"\"}}}],\"histogram\":[{\"marker\":{\"pattern\":{\"fillmode\":\"overlay\",\"size\":10,\"solidity\":0.2}},\"type\":\"histogram\"}],\"scattergl\":[{\"type\":\"scattergl\",\"marker\":{\"colorbar\":{\"outlinewidth\":0,\"ticks\":\"\"}}}],\"scatter3d\":[{\"type\":\"scatter3d\",\"line\":{\"colorbar\":{\"outlinewidth\":0,\"ticks\":\"\"}},\"marker\":{\"colorbar\":{\"outlinewidth\":0,\"ticks\":\"\"}}}],\"scattermapbox\":[{\"type\":\"scattermapbox\",\"marker\":{\"colorbar\":{\"outlinewidth\":0,\"ticks\":\"\"}}}],\"scatterternary\":[{\"type\":\"scatterternary\",\"marker\":{\"colorbar\":{\"outlinewidth\":0,\"ticks\":\"\"}}}],\"scattercarpet\":[{\"type\":\"scattercarpet\",\"marker\":{\"colorbar\":{\"outlinewidth\":0,\"ticks\":\"\"}}}],\"carpet\":[{\"aaxis\":{\"endlinecolor\":\"#2a3f5f\",\"gridcolor\":\"white\",\"linecolor\":\"white\",\"minorgridcolor\":\"white\",\"startlinecolor\":\"#2a3f5f\"},\"baxis\":{\"endlinecolor\":\"#2a3f5f\",\"gridcolor\":\"white\",\"linecolor\":\"white\",\"minorgridcolor\":\"white\",\"startlinecolor\":\"#2a3f5f\"},\"type\":\"carpet\"}],\"table\":[{\"cells\":{\"fill\":{\"color\":\"#EBF0F8\"},\"line\":{\"color\":\"white\"}},\"header\":{\"fill\":{\"color\":\"#C8D4E3\"},\"line\":{\"color\":\"white\"}},\"type\":\"table\"}],\"barpolar\":[{\"marker\":{\"line\":{\"color\":\"#E5ECF6\",\"width\":0.5},\"pattern\":{\"fillmode\":\"overlay\",\"size\":10,\"solidity\":0.2}},\"type\":\"barpolar\"}],\"pie\":[{\"automargin\":true,\"type\":\"pie\"}]},\"layout\":{\"autotypenumbers\":\"strict\",\"colorway\":[\"#636efa\",\"#EF553B\",\"#00cc96\",\"#ab63fa\",\"#FFA15A\",\"#19d3f3\",\"#FF6692\",\"#B6E880\",\"#FF97FF\",\"#FECB52\"],\"font\":{\"color\":\"#2a3f5f\"},\"hovermode\":\"closest\",\"hoverlabel\":{\"align\":\"left\"},\"paper_bgcolor\":\"white\",\"plot_bgcolor\":\"#E5ECF6\",\"polar\":{\"bgcolor\":\"#E5ECF6\",\"angularaxis\":{\"gridcolor\":\"white\",\"linecolor\":\"white\",\"ticks\":\"\"},\"radialaxis\":{\"gridcolor\":\"white\",\"linecolor\":\"white\",\"ticks\":\"\"}},\"ternary\":{\"bgcolor\":\"#E5ECF6\",\"aaxis\":{\"gridcolor\":\"white\",\"linecolor\":\"white\",\"ticks\":\"\"},\"baxis\":{\"gridcolor\":\"white\",\"linecolor\":\"white\",\"ticks\":\"\"},\"caxis\":{\"gridcolor\":\"white\",\"linecolor\":\"white\",\"ticks\":\"\"}},\"coloraxis\":{\"colorbar\":{\"outlinewidth\":0,\"ticks\":\"\"}},\"colorscale\":{\"sequential\":[[0.0,\"#0d0887\"],[0.1111111111111111,\"#46039f\"],[0.2222222222222222,\"#7201a8\"],[0.3333333333333333,\"#9c179e\"],[0.4444444444444444,\"#bd3786\"],[0.5555555555555556,\"#d8576b\"],[0.6666666666666666,\"#ed7953\"],[0.7777777777777778,\"#fb9f3a\"],[0.8888888888888888,\"#fdca26\"],[1.0,\"#f0f921\"]],\"sequentialminus\":[[0.0,\"#0d0887\"],[0.1111111111111111,\"#46039f\"],[0.2222222222222222,\"#7201a8\"],[0.3333333333333333,\"#9c179e\"],[0.4444444444444444,\"#bd3786\"],[0.5555555555555556,\"#d8576b\"],[0.6666666666666666,\"#ed7953\"],[0.7777777777777778,\"#fb9f3a\"],[0.8888888888888888,\"#fdca26\"],[1.0,\"#f0f921\"]],\"diverging\":[[0,\"#8e0152\"],[0.1,\"#c51b7d\"],[0.2,\"#de77ae\"],[0.3,\"#f1b6da\"],[0.4,\"#fde0ef\"],[0.5,\"#f7f7f7\"],[0.6,\"#e6f5d0\"],[0.7,\"#b8e186\"],[0.8,\"#7fbc41\"],[0.9,\"#4d9221\"],[1,\"#276419\"]]},\"xaxis\":{\"gridcolor\":\"white\",\"linecolor\":\"white\",\"ticks\":\"\",\"title\":{\"standoff\":15},\"zerolinecolor\":\"white\",\"automargin\":true,\"zerolinewidth\":2},\"yaxis\":{\"gridcolor\":\"white\",\"linecolor\":\"white\",\"ticks\":\"\",\"title\":{\"standoff\":15},\"zerolinecolor\":\"white\",\"automargin\":true,\"zerolinewidth\":2},\"scene\":{\"xaxis\":{\"backgroundcolor\":\"#E5ECF6\",\"gridcolor\":\"white\",\"linecolor\":\"white\",\"showbackground\":true,\"ticks\":\"\",\"zerolinecolor\":\"white\",\"gridwidth\":2},\"yaxis\":{\"backgroundcolor\":\"#E5ECF6\",\"gridcolor\":\"white\",\"linecolor\":\"white\",\"showbackground\":true,\"ticks\":\"\",\"zerolinecolor\":\"white\",\"gridwidth\":2},\"zaxis\":{\"backgroundcolor\":\"#E5ECF6\",\"gridcolor\":\"white\",\"linecolor\":\"white\",\"showbackground\":true,\"ticks\":\"\",\"zerolinecolor\":\"white\",\"gridwidth\":2}},\"shapedefaults\":{\"line\":{\"color\":\"#2a3f5f\"}},\"annotationdefaults\":{\"arrowcolor\":\"#2a3f5f\",\"arrowhead\":0,\"arrowwidth\":1},\"geo\":{\"bgcolor\":\"white\",\"landcolor\":\"#E5ECF6\",\"subunitcolor\":\"white\",\"showland\":true,\"showlakes\":true,\"lakecolor\":\"white\"},\"title\":{\"x\":0.05},\"mapbox\":{\"style\":\"light\"}}},\"xaxis\":{\"anchor\":\"y\",\"domain\":[0.0,1.0],\"title\":{\"text\":\"Product\"}},\"yaxis\":{\"anchor\":\"x\",\"domain\":[0.0,1.0],\"title\":{\"text\":\"Count of Complaint\"}},\"legend\":{\"title\":{\"text\":\"Variable\"},\"tracegroupgap\":0},\"title\":{\"text\":\"Count Complaint in Each Product\"},\"barmode\":\"relative\"},                        {\"responsive\": true}                    ).then(function(){\n",
       "                            \n",
       "var gd = document.getElementById('88201a2f-8e47-4e3b-adba-5dada5e8ad5c');\n",
       "var x = new MutationObserver(function (mutations, observer) {{\n",
       "        var display = window.getComputedStyle(gd).display;\n",
       "        if (!display || display === 'none') {{\n",
       "            console.log([gd, 'removed!']);\n",
       "            Plotly.purge(gd);\n",
       "            observer.disconnect();\n",
       "        }}\n",
       "}});\n",
       "\n",
       "// Listen for the removal of the full notebook cells\n",
       "var notebookContainer = gd.closest('#notebook-container');\n",
       "if (notebookContainer) {{\n",
       "    x.observe(notebookContainer, {childList: true});\n",
       "}}\n",
       "\n",
       "// Listen for the clearing of the current output cell\n",
       "var outputEl = gd.closest('.output');\n",
       "if (outputEl) {{\n",
       "    x.observe(outputEl, {childList: true});\n",
       "}}\n",
       "\n",
       "                        })                };                });            </script>        </div>"
      ]
     },
     "metadata": {},
     "output_type": "display_data"
    }
   ],
   "source": [
    "import plotly.express as px\n",
    "fig = px.bar(data_n.groupby(['product']).count(),\n",
    "             labels={\n",
    "                     \"product\": \"Product\",\n",
    "                     \"value\": \"Count of Complaint\",\n",
    "                     \"variable\": \"Variable\"\n",
    "                 },\n",
    "                title=\"Count Complaint in Each Product\")\n",
    "fig.show()"
   ]
  },
  {
   "cell_type": "markdown",
   "id": "be2dbf44",
   "metadata": {
    "papermill": {
     "duration": 0.007665,
     "end_time": "2022-05-31T06:03:25.919853",
     "exception": false,
     "start_time": "2022-05-31T06:03:25.912188",
     "status": "completed"
    },
    "tags": []
   },
   "source": [
    "# **Text Pre-processing**"
   ]
  },
  {
   "cell_type": "code",
   "execution_count": 8,
   "id": "9a875d6c",
   "metadata": {
    "execution": {
     "iopub.execute_input": "2022-05-31T06:03:25.946297Z",
     "iopub.status.busy": "2022-05-31T06:03:25.945479Z",
     "iopub.status.idle": "2022-05-31T06:03:25.971295Z",
     "shell.execute_reply": "2022-05-31T06:03:25.968936Z"
    },
    "papermill": {
     "duration": 0.042798,
     "end_time": "2022-05-31T06:03:25.973331",
     "exception": false,
     "start_time": "2022-05-31T06:03:25.930533",
     "status": "completed"
    },
    "tags": []
   },
   "outputs": [
    {
     "data": {
      "text/html": [
       "<div>\n",
       "<style scoped>\n",
       "    .dataframe tbody tr th:only-of-type {\n",
       "        vertical-align: middle;\n",
       "    }\n",
       "\n",
       "    .dataframe tbody tr th {\n",
       "        vertical-align: top;\n",
       "    }\n",
       "\n",
       "    .dataframe thead th {\n",
       "        text-align: right;\n",
       "    }\n",
       "</style>\n",
       "<table border=\"1\" class=\"dataframe\">\n",
       "  <thead>\n",
       "    <tr style=\"text-align: right;\">\n",
       "      <th></th>\n",
       "      <th>product</th>\n",
       "      <th>narrative</th>\n",
       "    </tr>\n",
       "  </thead>\n",
       "  <tbody>\n",
       "    <tr>\n",
       "      <th>0</th>\n",
       "      <td>credit_card</td>\n",
       "      <td>purchase order day shipping amount receive pro...</td>\n",
       "    </tr>\n",
       "    <tr>\n",
       "      <th>1</th>\n",
       "      <td>credit_card</td>\n",
       "      <td>forwarded message date tue subject please inve...</td>\n",
       "    </tr>\n",
       "    <tr>\n",
       "      <th>2</th>\n",
       "      <td>retail_banking</td>\n",
       "      <td>forwarded message cc sent friday pdt subject f...</td>\n",
       "    </tr>\n",
       "    <tr>\n",
       "      <th>3</th>\n",
       "      <td>credit_reporting</td>\n",
       "      <td>payment history missing credit report speciali...</td>\n",
       "    </tr>\n",
       "    <tr>\n",
       "      <th>4</th>\n",
       "      <td>credit_reporting</td>\n",
       "      <td>payment history missing credit report made mis...</td>\n",
       "    </tr>\n",
       "  </tbody>\n",
       "</table>\n",
       "</div>"
      ],
      "text/plain": [
       "            product                                          narrative\n",
       "0       credit_card  purchase order day shipping amount receive pro...\n",
       "1       credit_card  forwarded message date tue subject please inve...\n",
       "2    retail_banking  forwarded message cc sent friday pdt subject f...\n",
       "3  credit_reporting  payment history missing credit report speciali...\n",
       "4  credit_reporting  payment history missing credit report made mis..."
      ]
     },
     "execution_count": 8,
     "metadata": {},
     "output_type": "execute_result"
    }
   ],
   "source": [
    "data_n.head()"
   ]
  },
  {
   "cell_type": "code",
   "execution_count": 9,
   "id": "ee76f228",
   "metadata": {
    "execution": {
     "iopub.execute_input": "2022-05-31T06:03:26.011917Z",
     "iopub.status.busy": "2022-05-31T06:03:26.011366Z",
     "iopub.status.idle": "2022-05-31T06:03:26.029178Z",
     "shell.execute_reply": "2022-05-31T06:03:26.027125Z"
    },
    "papermill": {
     "duration": 0.042184,
     "end_time": "2022-05-31T06:03:26.036888",
     "exception": false,
     "start_time": "2022-05-31T06:03:25.994704",
     "status": "completed"
    },
    "tags": []
   },
   "outputs": [
    {
     "name": "stdout",
     "output_type": "stream",
     "text": [
      "beginning mortgage held mb financial mb mortgage portfolio purchased bank first quarter mb financial customer began fall behind mortgage payment due unemployment divorce house went foreclosure later sheriff sale home scheduled morning submitted hardship application end documentation specific date letter dated acknowledges application discussed next step never received written verbal confirmation regarding status hardship application day scheduled sheriff sale communication way sale never provided clear determination application made payment brought account current able taking loan group friend would lost home sheriff auction day sale received express mail letter dated date scheduled sheriff sale saying hardship application approved detail trial payment plan received letter timeframe required promised would take full loan friend would made required payment delay review option held numerous call since large payment told trial plan leading loan modification place payment plan fact made brought account current documentation effect extending one call confirm status mortgage department even made branch local branch manager line ensure misunderstanding aspect found process confusing told call branch manager participated could expect receive loan modification agreement end happen told subsequent call would receive end still happened week ago became concerned process might impacted covid pandemic call told loan modification going happen made payment bring account current never told conversation written communication since hardship application submitted end told would need resubmit hardship application go process approved would put overall timeframe modify mortgage nearly year assuming submitted took day review made monthly payment took another one two month get agreement hold two business significant financial responsibility unintelligent lacking understanding fiscal matter found experience absolutely frustrating held commitment submitting cfpb hope might rectify situation potentially others interim planning applying covid hardship forbearance separate reapplication hardship program\n",
      "Product: mortgages_and_loans\n"
     ]
    }
   ],
   "source": [
    "def print_plot(index):\n",
    "    example = data_n[data_n.index == index][['narrative', 'product']].values[0]\n",
    "    if len(example) > 0:\n",
    "        print(example[0])\n",
    "        print('Product:', example[1])\n",
    "print_plot(10)"
   ]
  },
  {
   "cell_type": "code",
   "execution_count": 10,
   "id": "502eab2e",
   "metadata": {
    "execution": {
     "iopub.execute_input": "2022-05-31T06:03:26.069872Z",
     "iopub.status.busy": "2022-05-31T06:03:26.069412Z",
     "iopub.status.idle": "2022-05-31T06:03:26.078738Z",
     "shell.execute_reply": "2022-05-31T06:03:26.077878Z"
    },
    "papermill": {
     "duration": 0.030023,
     "end_time": "2022-05-31T06:03:26.081437",
     "exception": false,
     "start_time": "2022-05-31T06:03:26.051414",
     "status": "completed"
    },
    "tags": []
   },
   "outputs": [
    {
     "name": "stdout",
     "output_type": "stream",
     "text": [
      "hello name trying reach several time get problem fixed receipted response far wrong adresses employment information exist credit account year addition also derogatory information appear credit report belong business address employment information need removed info priority expedite reported ar ar\n",
      "Product: credit_reporting\n"
     ]
    }
   ],
   "source": [
    "print_plot(70)"
   ]
  },
  {
   "cell_type": "code",
   "execution_count": 11,
   "id": "4da8e032",
   "metadata": {
    "execution": {
     "iopub.execute_input": "2022-05-31T06:03:26.120800Z",
     "iopub.status.busy": "2022-05-31T06:03:26.120410Z",
     "iopub.status.idle": "2022-05-31T06:03:26.194509Z",
     "shell.execute_reply": "2022-05-31T06:03:26.192874Z"
    },
    "papermill": {
     "duration": 0.094735,
     "end_time": "2022-05-31T06:03:26.196876",
     "exception": false,
     "start_time": "2022-05-31T06:03:26.102141",
     "status": "completed"
    },
    "tags": []
   },
   "outputs": [
    {
     "name": "stdout",
     "output_type": "stream",
     "text": [
      "<class 'pandas.core.frame.DataFrame'>\n",
      "RangeIndex: 162421 entries, 0 to 162420\n",
      "Data columns (total 2 columns):\n",
      " #   Column     Non-Null Count   Dtype \n",
      "---  ------     --------------   ----- \n",
      " 0   product    162421 non-null  object\n",
      " 1   narrative  162411 non-null  object\n",
      "dtypes: object(2)\n",
      "memory usage: 2.5+ MB\n"
     ]
    }
   ],
   "source": [
    "data_n.info()"
   ]
  },
  {
   "cell_type": "code",
   "execution_count": 12,
   "id": "04935a74",
   "metadata": {
    "execution": {
     "iopub.execute_input": "2022-05-31T06:03:26.226919Z",
     "iopub.status.busy": "2022-05-31T06:03:26.226587Z",
     "iopub.status.idle": "2022-05-31T06:03:35.317971Z",
     "shell.execute_reply": "2022-05-31T06:03:35.317032Z"
    },
    "papermill": {
     "duration": 9.108818,
     "end_time": "2022-05-31T06:03:35.320474",
     "exception": false,
     "start_time": "2022-05-31T06:03:26.211656",
     "status": "completed"
    },
    "tags": []
   },
   "outputs": [
    {
     "name": "stderr",
     "output_type": "stream",
     "text": [
      "/opt/conda/lib/python3.7/site-packages/ipykernel_launcher.py:27: FutureWarning:\n",
      "\n",
      "The default value of regex will change from True to False in a future version.\n",
      "\n"
     ]
    }
   ],
   "source": [
    "data_n = data_n.reset_index(drop=True)\n",
    "REPLACE_BY_SPACE_RE = re.compile('[/(){}\\[\\]\\|@,;]')\n",
    "BAD_SYMBOLS_RE = re.compile('[^0-9a-z #+_]')\n",
    "STOPWORDS = set(stopwords.words('english'))\n",
    "\n",
    "def clean_text(text):\n",
    "    \"\"\"\n",
    "        text: a string\n",
    "        \n",
    "        return: modified initial string\n",
    "    \"\"\"\n",
    "    text = str(text)\n",
    "    text = text.lower() # lowercase text\n",
    "    text = REPLACE_BY_SPACE_RE.sub(' ', text) \n",
    "    # replace REPLACE_BY_SPACE_RE symbols by space in text. \n",
    "    # substitute the matched string in REPLACE_BY_SPACE_RE with space.\n",
    "    \n",
    "    text = BAD_SYMBOLS_RE.sub('', text) \n",
    "    # remove symbols which are in BAD_SYMBOLS_RE from text. \n",
    "    # substitute the matched string in BAD_SYMBOLS_RE with nothing. \n",
    "    #text = text.replace('x', '')\n",
    "    #text = re.sub(r'\\W+', '', text)\n",
    "    text = ' '.join(word for word in text.split() if word not in STOPWORDS) \n",
    "    # remove stopwors from text\n",
    "    return text\n",
    "data_n['narrative'] = data_n['narrative'].apply(clean_text)\n",
    "data_n['narrative'] = data_n['narrative'].str.replace('\\d+', '')"
   ]
  },
  {
   "cell_type": "code",
   "execution_count": 13,
   "id": "ab30a747",
   "metadata": {
    "execution": {
     "iopub.execute_input": "2022-05-31T06:03:35.337555Z",
     "iopub.status.busy": "2022-05-31T06:03:35.337161Z",
     "iopub.status.idle": "2022-05-31T06:03:35.344003Z",
     "shell.execute_reply": "2022-05-31T06:03:35.342754Z"
    },
    "papermill": {
     "duration": 0.01728,
     "end_time": "2022-05-31T06:03:35.345729",
     "exception": false,
     "start_time": "2022-05-31T06:03:35.328449",
     "status": "completed"
    },
    "tags": []
   },
   "outputs": [
    {
     "name": "stdout",
     "output_type": "stream",
     "text": [
      "name last four account number writing dispute late payment reported impacted covid virus hospital long time lost job spoke advised payment deferred get credit alert reported past due violation care act late payment need removed pay account full correct credit report remove erroinious late fee told provided protection care act failed adhere offered one called received written notice term deferred plan rely rep told thought protected need make right comply care act fix credit reporting remove late fee call done account negative told going forebarace would put account credit limit illegal credit ruined udapp violation care act violation\n",
      "Product: credit_reporting\n"
     ]
    }
   ],
   "source": [
    "print_plot(30)"
   ]
  },
  {
   "cell_type": "code",
   "execution_count": 14,
   "id": "b89f3ad5",
   "metadata": {
    "execution": {
     "iopub.execute_input": "2022-05-31T06:03:35.362870Z",
     "iopub.status.busy": "2022-05-31T06:03:35.362552Z",
     "iopub.status.idle": "2022-05-31T06:03:44.655023Z",
     "shell.execute_reply": "2022-05-31T06:03:44.654175Z"
    },
    "papermill": {
     "duration": 9.303767,
     "end_time": "2022-05-31T06:03:44.657476",
     "exception": false,
     "start_time": "2022-05-31T06:03:35.353709",
     "status": "completed"
    },
    "tags": []
   },
   "outputs": [
    {
     "name": "stdout",
     "output_type": "stream",
     "text": [
      "Found 45960 unique tokens.\n"
     ]
    }
   ],
   "source": [
    "# The maximum number of words to be used. (most frequent)\n",
    "MAX_NB_WORDS = 50000\n",
    "# Max number of words in each complaint.\n",
    "MAX_SEQUENCE_LENGTH = 250\n",
    "# This is fixed.\n",
    "EMBEDDING_DIM = 100\n",
    "\n",
    "tokenizer = Tokenizer(num_words=MAX_NB_WORDS, \n",
    "                      filters='!\"#$%&()*+,-./:;<=>?@[\\]^_`{|}~', \n",
    "                      lower=True)\n",
    "tokenizer.fit_on_texts(data_n['narrative'].values)\n",
    "word_index = tokenizer.word_index\n",
    "print('Found %s unique tokens.' % len(word_index))"
   ]
  },
  {
   "cell_type": "code",
   "execution_count": 15,
   "id": "1a953d32",
   "metadata": {
    "execution": {
     "iopub.execute_input": "2022-05-31T06:03:44.676017Z",
     "iopub.status.busy": "2022-05-31T06:03:44.675200Z",
     "iopub.status.idle": "2022-05-31T06:03:54.017316Z",
     "shell.execute_reply": "2022-05-31T06:03:54.016433Z"
    },
    "papermill": {
     "duration": 9.353536,
     "end_time": "2022-05-31T06:03:54.019889",
     "exception": false,
     "start_time": "2022-05-31T06:03:44.666353",
     "status": "completed"
    },
    "tags": []
   },
   "outputs": [
    {
     "name": "stdout",
     "output_type": "stream",
     "text": [
      "Shape of data tensor: (162421, 250)\n"
     ]
    }
   ],
   "source": [
    "X = tokenizer.texts_to_sequences(data_n['narrative'].values)\n",
    "X = pad_sequences(X, maxlen=MAX_SEQUENCE_LENGTH)\n",
    "print('Shape of data tensor:', X.shape)"
   ]
  },
  {
   "cell_type": "code",
   "execution_count": 16,
   "id": "295c7542",
   "metadata": {
    "execution": {
     "iopub.execute_input": "2022-05-31T06:03:54.038625Z",
     "iopub.status.busy": "2022-05-31T06:03:54.037267Z",
     "iopub.status.idle": "2022-05-31T06:03:54.060215Z",
     "shell.execute_reply": "2022-05-31T06:03:54.058961Z"
    },
    "papermill": {
     "duration": 0.033748,
     "end_time": "2022-05-31T06:03:54.062370",
     "exception": false,
     "start_time": "2022-05-31T06:03:54.028622",
     "status": "completed"
    },
    "tags": []
   },
   "outputs": [
    {
     "name": "stdout",
     "output_type": "stream",
     "text": [
      "Shape of label tensor: (162421, 5)\n"
     ]
    }
   ],
   "source": [
    "Y = pd.get_dummies(data_n['product']).values\n",
    "print('Shape of label tensor:', Y.shape)"
   ]
  },
  {
   "cell_type": "code",
   "execution_count": 17,
   "id": "f665a41c",
   "metadata": {
    "execution": {
     "iopub.execute_input": "2022-05-31T06:03:54.079621Z",
     "iopub.status.busy": "2022-05-31T06:03:54.079366Z",
     "iopub.status.idle": "2022-05-31T06:03:54.155790Z",
     "shell.execute_reply": "2022-05-31T06:03:54.154805Z"
    },
    "papermill": {
     "duration": 0.087357,
     "end_time": "2022-05-31T06:03:54.158149",
     "exception": false,
     "start_time": "2022-05-31T06:03:54.070792",
     "status": "completed"
    },
    "tags": []
   },
   "outputs": [
    {
     "name": "stdout",
     "output_type": "stream",
     "text": [
      "(146178, 250) (146178, 5)\n",
      "(16243, 250) (16243, 5)\n"
     ]
    }
   ],
   "source": [
    "X_train, X_test, Y_train, Y_test = train_test_split(X,Y, test_size = 0.10, random_state = 42)\n",
    "print(X_train.shape,Y_train.shape)\n",
    "print(X_test.shape,Y_test.shape)"
   ]
  },
  {
   "cell_type": "markdown",
   "id": "d9169b90",
   "metadata": {
    "papermill": {
     "duration": 0.007783,
     "end_time": "2022-05-31T06:03:54.174120",
     "exception": false,
     "start_time": "2022-05-31T06:03:54.166337",
     "status": "completed"
    },
    "tags": []
   },
   "source": [
    "# **Modelling**"
   ]
  },
  {
   "cell_type": "code",
   "execution_count": 18,
   "id": "c51b0b03",
   "metadata": {
    "execution": {
     "iopub.execute_input": "2022-05-31T06:03:54.191168Z",
     "iopub.status.busy": "2022-05-31T06:03:54.190855Z",
     "iopub.status.idle": "2022-05-31T06:03:57.843261Z",
     "shell.execute_reply": "2022-05-31T06:03:57.842343Z"
    },
    "papermill": {
     "duration": 3.663986,
     "end_time": "2022-05-31T06:03:57.846076",
     "exception": false,
     "start_time": "2022-05-31T06:03:54.182090",
     "status": "completed"
    },
    "tags": []
   },
   "outputs": [
    {
     "name": "stderr",
     "output_type": "stream",
     "text": [
      "2022-05-31 06:03:54.298421: I tensorflow/stream_executor/cuda/cuda_gpu_executor.cc:937] successful NUMA node read from SysFS had negative value (-1), but there must be at least one NUMA node, so returning NUMA node zero\n",
      "2022-05-31 06:03:54.303413: I tensorflow/stream_executor/cuda/cuda_gpu_executor.cc:937] successful NUMA node read from SysFS had negative value (-1), but there must be at least one NUMA node, so returning NUMA node zero\n",
      "2022-05-31 06:03:54.304149: I tensorflow/stream_executor/cuda/cuda_gpu_executor.cc:937] successful NUMA node read from SysFS had negative value (-1), but there must be at least one NUMA node, so returning NUMA node zero\n",
      "2022-05-31 06:03:54.305567: I tensorflow/core/platform/cpu_feature_guard.cc:142] This TensorFlow binary is optimized with oneAPI Deep Neural Network Library (oneDNN) to use the following CPU instructions in performance-critical operations:  AVX2 AVX512F FMA\n",
      "To enable them in other operations, rebuild TensorFlow with the appropriate compiler flags.\n",
      "2022-05-31 06:03:54.305891: I tensorflow/stream_executor/cuda/cuda_gpu_executor.cc:937] successful NUMA node read from SysFS had negative value (-1), but there must be at least one NUMA node, so returning NUMA node zero\n",
      "2022-05-31 06:03:54.306553: I tensorflow/stream_executor/cuda/cuda_gpu_executor.cc:937] successful NUMA node read from SysFS had negative value (-1), but there must be at least one NUMA node, so returning NUMA node zero\n",
      "2022-05-31 06:03:54.307188: I tensorflow/stream_executor/cuda/cuda_gpu_executor.cc:937] successful NUMA node read from SysFS had negative value (-1), but there must be at least one NUMA node, so returning NUMA node zero\n",
      "2022-05-31 06:03:56.634494: I tensorflow/stream_executor/cuda/cuda_gpu_executor.cc:937] successful NUMA node read from SysFS had negative value (-1), but there must be at least one NUMA node, so returning NUMA node zero\n",
      "2022-05-31 06:03:56.635398: I tensorflow/stream_executor/cuda/cuda_gpu_executor.cc:937] successful NUMA node read from SysFS had negative value (-1), but there must be at least one NUMA node, so returning NUMA node zero\n",
      "2022-05-31 06:03:56.636077: I tensorflow/stream_executor/cuda/cuda_gpu_executor.cc:937] successful NUMA node read from SysFS had negative value (-1), but there must be at least one NUMA node, so returning NUMA node zero\n",
      "2022-05-31 06:03:56.636731: I tensorflow/core/common_runtime/gpu/gpu_device.cc:1510] Created device /job:localhost/replica:0/task:0/device:GPU:0 with 15385 MB memory:  -> device: 0, name: Tesla P100-PCIE-16GB, pci bus id: 0000:00:04.0, compute capability: 6.0\n"
     ]
    },
    {
     "name": "stdout",
     "output_type": "stream",
     "text": [
      "Model: \"sequential\"\n",
      "_________________________________________________________________\n",
      "Layer (type)                 Output Shape              Param #   \n",
      "=================================================================\n",
      "embedding (Embedding)        (None, 250, 100)          5000000   \n",
      "_________________________________________________________________\n",
      "spatial_dropout1d (SpatialDr (None, 250, 100)          0         \n",
      "_________________________________________________________________\n",
      "bidirectional (Bidirectional (None, 250, 512)          731136    \n",
      "_________________________________________________________________\n",
      "bidirectional_1 (Bidirection (None, 256)               656384    \n",
      "_________________________________________________________________\n",
      "dense (Dense)                (None, 5)                 1285      \n",
      "=================================================================\n",
      "Total params: 6,388,805\n",
      "Trainable params: 6,388,805\n",
      "Non-trainable params: 0\n",
      "_________________________________________________________________\n"
     ]
    }
   ],
   "source": [
    "## Model Architecture\n",
    "model = tf.keras.Sequential([\n",
    "    tf.keras.layers.Embedding(MAX_NB_WORDS, EMBEDDING_DIM,\n",
    "                              input_length=X.shape[1]),\n",
    "    tf.keras.layers.SpatialDropout1D(0.2),\n",
    "    tf.keras.layers.Bidirectional(tf.keras.layers.LSTM(256, \n",
    "                                                       return_sequences=True)),\n",
    "    tf.keras.layers.Bidirectional(tf.keras.layers.LSTM(128)),\n",
    "    #tf.keras.layers.Dense(128, activation='softmax'),\n",
    "    tf.keras.layers.Dense(5, activation='softmax')\n",
    "])\n",
    "model.summary()"
   ]
  },
  {
   "cell_type": "code",
   "execution_count": 19,
   "id": "92b38141",
   "metadata": {
    "execution": {
     "iopub.execute_input": "2022-05-31T06:03:57.866382Z",
     "iopub.status.busy": "2022-05-31T06:03:57.866086Z",
     "iopub.status.idle": "2022-05-31T06:03:57.881080Z",
     "shell.execute_reply": "2022-05-31T06:03:57.880351Z"
    },
    "papermill": {
     "duration": 0.026754,
     "end_time": "2022-05-31T06:03:57.882867",
     "exception": false,
     "start_time": "2022-05-31T06:03:57.856113",
     "status": "completed"
    },
    "tags": []
   },
   "outputs": [],
   "source": [
    "model.compile(loss=tf.keras.losses.CategoricalCrossentropy(from_logits=True), \n",
    "              optimizer='Nadam', metrics=[\"CategoricalAccuracy\"])"
   ]
  },
  {
   "cell_type": "code",
   "execution_count": 20,
   "id": "f64b8bf5",
   "metadata": {
    "execution": {
     "iopub.execute_input": "2022-05-31T06:03:57.900507Z",
     "iopub.status.busy": "2022-05-31T06:03:57.900217Z",
     "iopub.status.idle": "2022-05-31T06:15:25.173870Z",
     "shell.execute_reply": "2022-05-31T06:15:25.172960Z"
    },
    "papermill": {
     "duration": 687.284928,
     "end_time": "2022-05-31T06:15:25.176060",
     "exception": false,
     "start_time": "2022-05-31T06:03:57.891132",
     "status": "completed"
    },
    "tags": []
   },
   "outputs": [
    {
     "name": "stderr",
     "output_type": "stream",
     "text": [
      "2022-05-31 06:03:58.051320: I tensorflow/compiler/mlir/mlir_graph_optimization_pass.cc:185] None of the MLIR Optimization Passes are enabled (registered 2)\n"
     ]
    },
    {
     "name": "stdout",
     "output_type": "stream",
     "text": [
      "Epoch 1/5\n"
     ]
    },
    {
     "name": "stderr",
     "output_type": "stream",
     "text": [
      "/opt/conda/lib/python3.7/site-packages/keras/backend.py:4847: UserWarning:\n",
      "\n",
      "\"`categorical_crossentropy` received `from_logits=True`, but the `output` argument was produced by a sigmoid or softmax activation and thus does not represent logits. Was this intended?\"\n",
      "\n",
      "2022-05-31 06:04:04.119759: I tensorflow/stream_executor/cuda/cuda_dnn.cc:369] Loaded cuDNN version 8005\n"
     ]
    },
    {
     "name": "stdout",
     "output_type": "stream",
     "text": [
      "1028/1028 [==============================] - 142s 130ms/step - loss: 0.5809 - categorical_accuracy: 0.7949 - val_loss: 0.4145 - val_categorical_accuracy: 0.8612\n",
      "Epoch 2/5\n",
      "1028/1028 [==============================] - 133s 129ms/step - loss: 0.3804 - categorical_accuracy: 0.8716 - val_loss: 0.3856 - val_categorical_accuracy: 0.8694\n",
      "Epoch 3/5\n",
      "1028/1028 [==============================] - 132s 129ms/step - loss: 0.3370 - categorical_accuracy: 0.8852 - val_loss: 0.3768 - val_categorical_accuracy: 0.8680\n",
      "Epoch 4/5\n",
      "1028/1028 [==============================] - 133s 129ms/step - loss: 0.3031 - categorical_accuracy: 0.8965 - val_loss: 0.3586 - val_categorical_accuracy: 0.8764\n",
      "Epoch 5/5\n",
      "1028/1028 [==============================] - 133s 129ms/step - loss: 0.2773 - categorical_accuracy: 0.9050 - val_loss: 0.3596 - val_categorical_accuracy: 0.8771\n"
     ]
    }
   ],
   "source": [
    "## Make sure to use GPU before running this cell. \n",
    "num_epochs = 5\n",
    "batch_size = 128\n",
    "## For early stopping to ensure it doesnt overfit\n",
    "callback = tf.keras.callbacks.EarlyStopping(monitor='loss', patience=2)\n",
    "history = model.fit(X_train, Y_train, \n",
    "                    epochs=num_epochs, batch_size=batch_size,\n",
    "                    validation_split=0.1,\n",
    "                    callbacks=[EarlyStopping(monitor='val_loss',\n",
    "                                             patience=3,\n",
    "                                             min_delta=0.0001)])"
   ]
  },
  {
   "cell_type": "code",
   "execution_count": 21,
   "id": "dc7525e7",
   "metadata": {
    "execution": {
     "iopub.execute_input": "2022-05-31T06:15:25.803533Z",
     "iopub.status.busy": "2022-05-31T06:15:25.803146Z",
     "iopub.status.idle": "2022-05-31T06:15:40.176628Z",
     "shell.execute_reply": "2022-05-31T06:15:40.175155Z"
    },
    "papermill": {
     "duration": 14.68956,
     "end_time": "2022-05-31T06:15:40.178766",
     "exception": false,
     "start_time": "2022-05-31T06:15:25.489206",
     "status": "completed"
    },
    "tags": []
   },
   "outputs": [
    {
     "name": "stdout",
     "output_type": "stream",
     "text": [
      "508/508 [==============================] - 14s 28ms/step - loss: 0.3558 - categorical_accuracy: 0.8746\n",
      "Test set\n",
      "  Loss: 0.356\n",
      "  Accuracy: 0.875\n"
     ]
    }
   ],
   "source": [
    "accr = model.evaluate(X_test,Y_test)\n",
    "print('Test set\\n  Loss: {:0.3f}\\n  Accuracy: {:0.3f}'.format(accr[0],accr[1]))"
   ]
  },
  {
   "cell_type": "code",
   "execution_count": 22,
   "id": "e0a09b38",
   "metadata": {
    "execution": {
     "iopub.execute_input": "2022-05-31T06:15:40.888674Z",
     "iopub.status.busy": "2022-05-31T06:15:40.888324Z",
     "iopub.status.idle": "2022-05-31T06:15:40.894051Z",
     "shell.execute_reply": "2022-05-31T06:15:40.893316Z"
    },
    "papermill": {
     "duration": 0.337107,
     "end_time": "2022-05-31T06:15:40.895947",
     "exception": false,
     "start_time": "2022-05-31T06:15:40.558840",
     "status": "completed"
    },
    "tags": []
   },
   "outputs": [
    {
     "data": {
      "text/plain": [
       "{'loss': [0.5808851718902588,\n",
       "  0.3804188370704651,\n",
       "  0.33702969551086426,\n",
       "  0.30307501554489136,\n",
       "  0.2772543132305145],\n",
       " 'categorical_accuracy': [0.7949224710464478,\n",
       "  0.8716022968292236,\n",
       "  0.8852462768554688,\n",
       "  0.8964731097221375,\n",
       "  0.9049786925315857],\n",
       " 'val_loss': [0.4145493507385254,\n",
       "  0.3855569660663605,\n",
       "  0.3767828941345215,\n",
       "  0.3586221933364868,\n",
       "  0.35960376262664795],\n",
       " 'val_categorical_accuracy': [0.8611985445022583,\n",
       "  0.869407594203949,\n",
       "  0.8680394291877747,\n",
       "  0.8763852715492249,\n",
       "  0.8771377801895142]}"
      ]
     },
     "execution_count": 22,
     "metadata": {},
     "output_type": "execute_result"
    }
   ],
   "source": [
    "history.history"
   ]
  },
  {
   "cell_type": "code",
   "execution_count": 23,
   "id": "f58771a8",
   "metadata": {
    "execution": {
     "iopub.execute_input": "2022-05-31T06:15:41.557739Z",
     "iopub.status.busy": "2022-05-31T06:15:41.557350Z",
     "iopub.status.idle": "2022-05-31T06:15:41.774966Z",
     "shell.execute_reply": "2022-05-31T06:15:41.774226Z"
    },
    "papermill": {
     "duration": 0.550425,
     "end_time": "2022-05-31T06:15:41.776770",
     "exception": false,
     "start_time": "2022-05-31T06:15:41.226345",
     "status": "completed"
    },
    "tags": []
   },
   "outputs": [
    {
     "data": {
      "image/png": "[encoded data removed]",
      "text/plain": [
       "<Figure size 432x288 with 1 Axes>"
      ]
     },
     "metadata": {
      "needs_background": "light"
     },
     "output_type": "display_data"
    }
   ],
   "source": [
    "plt.title('Loss')\n",
    "plt.plot(history.history['loss'], label='train')\n",
    "plt.plot(history.history['val_loss'], label='test')\n",
    "plt.legend()\n",
    "plt.show();"
   ]
  },
  {
   "cell_type": "code",
   "execution_count": 24,
   "id": "be2e9a20",
   "metadata": {
    "execution": {
     "iopub.execute_input": "2022-05-31T06:15:42.505767Z",
     "iopub.status.busy": "2022-05-31T06:15:42.505407Z",
     "iopub.status.idle": "2022-05-31T06:15:42.693398Z",
     "shell.execute_reply": "2022-05-31T06:15:42.692673Z"
    },
    "papermill": {
     "duration": 0.57978,
     "end_time": "2022-05-31T06:15:42.695201",
     "exception": false,
     "start_time": "2022-05-31T06:15:42.115421",
     "status": "completed"
    },
    "tags": []
   },
   "outputs": [
    {
     "data": {
      "image/png": "[encoded data removed]",
      "text/plain": [
       "<Figure size 432x288 with 1 Axes>"
      ]
     },
     "metadata": {
      "needs_background": "light"
     },
     "output_type": "display_data"
    }
   ],
   "source": [
    "plt.title('Accuracy')\n",
    "plt.plot(history.history['categorical_accuracy'], label='train')\n",
    "plt.plot(history.history['val_categorical_accuracy'], label='test')\n",
    "plt.legend()\n",
    "plt.show();"
   ]
  },
  {
   "cell_type": "markdown",
   "id": "e5df1247",
   "metadata": {
    "papermill": {
     "duration": 0.505346,
     "end_time": "2022-05-31T06:15:43.626386",
     "exception": false,
     "start_time": "2022-05-31T06:15:43.121040",
     "status": "completed"
    },
    "tags": []
   },
   "source": [
    "# **Predict New Data**"
   ]
  },
  {
   "cell_type": "code",
   "execution_count": 25,
   "id": "84399575",
   "metadata": {
    "execution": {
     "iopub.execute_input": "2022-05-31T06:15:44.293061Z",
     "iopub.status.busy": "2022-05-31T06:15:44.292703Z",
     "iopub.status.idle": "2022-05-31T06:15:45.342014Z",
     "shell.execute_reply": "2022-05-31T06:15:45.341142Z"
    },
    "papermill": {
     "duration": 1.386668,
     "end_time": "2022-05-31T06:15:45.344475",
     "exception": false,
     "start_time": "2022-05-31T06:15:43.957807",
     "status": "completed"
    },
    "tags": []
   },
   "outputs": [
    {
     "name": "stdout",
     "output_type": "stream",
     "text": [
      "[[0.2635826  0.6566377  0.07286864 0.00271591 0.00419514]] credit_reporting\n"
     ]
    }
   ],
   "source": [
    "new_complaint = ['I am a victim of identity theft and someone stole my identity and personal information to open up a Visa credit card account with Bank of America. The following Bank of America Visa credit card account do not belong to me : XXXX.']\n",
    "seq = tokenizer.texts_to_sequences(new_complaint)\n",
    "padded = pad_sequences(seq, maxlen=MAX_SEQUENCE_LENGTH)\n",
    "pred = model.predict(padded)\n",
    "labels = ['credit_card',\n",
    "'credit_reporting',\n",
    "'debt_collection',\n",
    "'mortgages_and_loans',\n",
    "'retail_banking']\n",
    "print(pred, labels[np.argmax(pred)])"
   ]
  },
  {
   "cell_type": "code",
   "execution_count": null,
   "id": "c7972c56",
   "metadata": {
    "papermill": {
     "duration": 0.333482,
     "end_time": "2022-05-31T06:15:46.055204",
     "exception": false,
     "start_time": "2022-05-31T06:15:45.721722",
     "status": "completed"
    },
    "tags": []
   },
   "outputs": [],
   "source": []
  }
 ],
 "metadata": {
  "kernelspec": {
   "display_name": "Python 3",
   "language": "python",
   "name": "python3"
  },
  "language_info": {
   "codemirror_mode": {
    "name": "ipython",
    "version": 3
   },
   "file_extension": ".py",
   "mimetype": "text/x-python",
   "name": "python",
   "nbconvert_exporter": "python",
   "pygments_lexer": "ipython3",
   "version": "3.7.12"
  },
  "papermill": {
   "default_parameters": {},
   "duration": 764.785762,
   "end_time": "2022-05-31T06:15:50.128240",
   "environment_variables": {},
   "exception": null,
   "input_path": "__notebook__.ipynb",
   "output_path": "__notebook__.ipynb",
   "parameters": {},
   "start_time": "2022-05-31T06:03:05.342478",
   "version": "2.3.4"
  }
 },
 "nbformat": 4,
 "nbformat_minor": 5
}
